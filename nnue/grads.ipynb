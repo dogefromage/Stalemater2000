{
 "cells": [
  {
   "cell_type": "code",
   "execution_count": null,
   "metadata": {},
   "outputs": [
    {
     "data": {
      "text/plain": [
       "'computation_graph.png'"
      ]
     },
     "execution_count": 1,
     "metadata": {},
     "output_type": "execute_result"
    },
    {
     "name": "stderr",
     "output_type": "stream",
     "text": [
      "WARNING: You don't seem to have any mimeinfo.cache files.\n",
      "Try running the update-desktop-database command. If you\n",
      "don't have this command you should install the\n",
      "desktop-file-utils package. This package is available from\n",
      "http://freedesktop.org/wiki/Software/desktop-file-utils/\n",
      "No applications found for mimetype: image/png\n",
      "./usr/bin/xdg-open: 882: x-www-browser: not found\n",
      "/usr/bin/xdg-open: 882: firefox: not found\n",
      "/usr/bin/xdg-open: 882: iceweasel: not found\n",
      "/usr/bin/xdg-open: 882: seamonkey: not found\n",
      "/usr/bin/xdg-open: 882: mozilla: not found\n",
      "/usr/bin/xdg-open: 882: epiphany: not found\n",
      "/usr/bin/xdg-open: 882: konqueror: not found\n",
      "/usr/bin/xdg-open: 882: chromium: not found\n",
      "/usr/bin/xdg-open: 882: chromium-browser: not found\n",
      "/usr/bin/xdg-open: 882: google-chrome: not found\n",
      "/usr/bin/xdg-open: 882: www-browser: not found\n",
      "/usr/bin/xdg-open: 882: links2: not found\n",
      "/usr/bin/xdg-open: 882: elinks: not found\n",
      "/usr/bin/xdg-open: 882: links: not found\n",
      "/usr/bin/xdg-open: 882: lynx: not found\n",
      "/usr/bin/xdg-open: 882: w3m: not found\n",
      "xdg-open: no method available for opening 'computation_graph.png'\n"
     ]
    }
   ],
   "source": [
    "import torch\n",
    "from torchviz import make_dot\n",
    "from model import NNUE\n",
    "\n",
    "model = NNUE()\n",
    "\n",
    "x = torch.randn(1, 12 * 64)\n",
    "y = torch.tensor([[True]])\n",
    "\n",
    "# Forward pass\n",
    "output = model(x, y)\n",
    "\n",
    "loss = output.mean()\n",
    "loss.backward()\n",
    "\n",
    "dot = make_dot(loss, params=dict(model.named_parameters()))\n",
    "dot.render(\"computation_graph\", format=\"png\", view=True)  # Saves and opens the graph\n"
   ]
  }
 ],
 "metadata": {
  "kernelspec": {
   "display_name": "nnue",
   "language": "python",
   "name": "python3"
  },
  "language_info": {
   "codemirror_mode": {
    "name": "ipython",
    "version": 3
   },
   "file_extension": ".py",
   "mimetype": "text/x-python",
   "name": "python",
   "nbconvert_exporter": "python",
   "pygments_lexer": "ipython3",
   "version": "3.13.2"
  }
 },
 "nbformat": 4,
 "nbformat_minor": 2
}
