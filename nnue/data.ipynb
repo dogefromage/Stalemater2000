{
 "cells": [
  {
   "cell_type": "code",
   "execution_count": 6,
   "metadata": {},
   "outputs": [
    {
     "name": "stdout",
     "output_type": "stream",
     "text": [
      "rn1qkb1r/pp3ppp/2p1pn2/3p4/2PP4/5PP1/PP1N1P1P/R1BQKB1R w KQkq -\n",
      "b3r1k1/5pp1/p2q1n1p/8/N2p4/P2Q2N1/1P3PPP/2r2RK1 w - -\n",
      "4r1k1/p4pp1/1b1p1q1p/3P1r2/1P2p3/1B5Q/P1R2PPP/5RK1 w - -\n",
      "3r1rk1/1p4pp/5p2/pPqNp3/P1Pn4/6P1/4QP1P/3R1R1K w - -\n",
      "7k/8/3Q4/p1p3p1/2Pp1N1P/P7/8/5RK1 w - -\n",
      "8/8/1p6/4Pk1p/1P1p1p2/3K2P1/7P/8 w - -\n",
      "4r3/p5k1/1pb5/2p3bp/2PpP2P/1P3BP1/P6K/3R4 w - -\n",
      "r3kb1r/pp1n1ppp/2n1p3/3q1b2/Q2N4/2P2B2/PP3PPP/RNB2RK1 b kq -\n",
      "r4rk1/p4pp1/2n4p/1pPp3P/7R/5NP1/qPQ1PP2/2R2K2 b - -\n",
      "rn1qk2r/pp1bb2p/3p1p2/2pNp1N1/2P4B/3BP3/PP3PPP/R2QK2R b KQkq -\n",
      "8/8/8/B7/4K3/1k6/4B3/8 w - -\n",
      "3r2k1/ppq1pp1p/6p1/4n3/3N1Q2/P1P3R1/1P3P1P/5K2 b - -\n",
      "2kr3r/pp2b2p/2p1Np2/5p2/3P4/8/PP3PPP/R3RK2 b - -\n",
      "r3k2r/pp2pp2/3p2p1/2P1b3/2P1NBnp/P2PPnPq/5P1P/1R1QR1K1 w kq -\n",
      "2r3k1/1B2bpp1/1q2p2p/2p5/1p1P4/1P2P2P/2QB1PP1/R5K1 b - -\n",
      "6k1/1p5p/2p2ppQ/p7/2P2Pq1/8/PB4RK/4r3 b - -\n",
      "2k1r3/pp1n4/2pR4/7p/5P2/8/PPP4P/1K5R w - -\n",
      "r5k1/1pp3pp/3p1r2/p1bP1b1q/2P1NP2/PP6/2Q2P1P/R4RK1 w - -\n",
      "r3r1k1/1bpp1pp1/p4q1p/npb5/3p4/1BP2N1P/PP3PP1/RNBQR1K1 w - -\n",
      "2rr2k1/pq1n1pp1/1p2pn1p/P7/2PP4/1Q3N1P/1B3PP1/R1R3K1 b - -\n"
     ]
    }
   ],
   "source": [
    "path_data = \"/home/seb/git/Stalemater2000/nnue/data/head_50k.jsonl.zst\"\n",
    "from dataset import iterate_full_dataset, position_from_line\n",
    "\n",
    "for i, line in enumerate(iterate_full_dataset(path_data)):\n",
    "    position = position_from_line(line)\n",
    "    if i >= 20:\n",
    "        break\n",
    "\n",
    "    print(position.fen)\n"
   ]
  }
 ],
 "metadata": {
  "kernelspec": {
   "display_name": "stalemater",
   "language": "python",
   "name": "python3"
  },
  "language_info": {
   "codemirror_mode": {
    "name": "ipython",
    "version": 3
   },
   "file_extension": ".py",
   "mimetype": "text/x-python",
   "name": "python",
   "nbconvert_exporter": "python",
   "pygments_lexer": "ipython3",
   "version": "3.13.2"
  }
 },
 "nbformat": 4,
 "nbformat_minor": 2
}
